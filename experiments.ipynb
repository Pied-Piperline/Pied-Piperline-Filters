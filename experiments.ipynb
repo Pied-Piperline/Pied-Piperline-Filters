{
 "cells": [
  {
   "cell_type": "code",
   "execution_count": 1,
   "metadata": {},
   "outputs": [],
   "source": [
    "import requests\n",
    "import bs4"
   ]
  },
  {
   "cell_type": "code",
   "execution_count": 2,
   "metadata": {},
   "outputs": [],
   "source": [
    "url = \"https://meduza.io/feature/2018/11/10/mat-na-polnoy-stavke-s-muzhem-na-polstavki\""
   ]
  },
  {
   "cell_type": "code",
   "execution_count": 31,
   "metadata": {},
   "outputs": [],
   "source": [
    "url = \"https://www.buzzfeednews.com/article/buzzfeednews/california-wildfires\""
   ]
  },
  {
   "cell_type": "code",
   "execution_count": 32,
   "metadata": {},
   "outputs": [],
   "source": [
    "res = requests.get(url)"
   ]
  },
  {
   "cell_type": "code",
   "execution_count": 33,
   "metadata": {},
   "outputs": [],
   "source": [
    "bs = bs4.BeautifulSoup(res.text)"
   ]
  },
  {
   "cell_type": "code",
   "execution_count": 34,
   "metadata": {},
   "outputs": [],
   "source": [
    "title = bs.findAll(\"h1\", attrs={\"class\": \"news-article-header__title\"})[0].text.replace(\"\\xa0\", \" \")"
   ]
  },
  {
   "cell_type": "code",
   "execution_count": 29,
   "metadata": {},
   "outputs": [],
   "source": [
    "title = bs.findAll(\"h1\", attrs={\"class\": \"RichTitle-root\"})[0].text.replace(\"\\xa0\", \" \")"
   ]
  },
  {
   "cell_type": "code",
   "execution_count": 35,
   "metadata": {},
   "outputs": [
    {
     "data": {
      "text/plain": [
       "'Live Updates: At Least 9 People Are Dead As Entire California Cities Flee Raging Wildfires'"
      ]
     },
     "execution_count": 35,
     "metadata": {},
     "output_type": "execute_result"
    }
   ],
   "source": [
    "title"
   ]
  },
  {
   "cell_type": "code",
   "execution_count": 36,
   "metadata": {},
   "outputs": [],
   "source": [
    "paragraphs = [text.text.replace(\"\\xa0\", \" \") for text in bs.findAll(\"p\")]"
   ]
  },
  {
   "cell_type": "code",
   "execution_count": 26,
   "metadata": {},
   "outputs": [],
   "source": [
    "paragraphs = [text.text.replace(\"\\xa0\", \" \") for text in bs.findAll(\"p\", attrs={\"class\": \"SimpleBlock-p\"})]"
   ]
  },
  {
   "cell_type": "code",
   "execution_count": 37,
   "metadata": {},
   "outputs": [
    {
     "data": {
      "text/plain": [
       "'\\n            Last updated on November 10, 2018, at 11:53 a.m. ET\\n        \\n\\n            Posted on November 9, 2018, at 11:40 a.m. ET\\n        \\nA wildfire in Northern California became the most destructive in state history, while another major blaze near Los Angeles has forced hundreds of thousands to flee.\\nBy\\n      \\n        BuzzFeed News\\n      \\n      \\nReporting From\\nThousand Oaks, California\\nBuzzFeed News\\nReporting From\\nThousand Oaks, California\\nA firefighter working on a burning home in Magalia, California.\\nA satellite image of the wildfires burning across California.\\nFirefighter Jose Corona sprays water as flames from the Camp fire consume a home in Magalia.\\nAlready the most destructive blaze in California history, the Camp fire grew in size to 100,00 acres overnight, officials said in a Saturday morning update.\\nThat’s up from 90,000 acres burned on Friday night, although the number of structures destroyed remains the same at 6,713.\\nHowever, the fire is now 20% contained, up from 5%.\\nCal Fire warned that strong winds are expected to return on Saturday evening to the area, which is still plagued by low relative humidities and dry fuel moistures.\\nA firefighter keeps watch as the Woolsey fire burns a home in Malibu.\\nDown south, the Woolsey fire has now burned 70,000 acres in and around Malibu.\\nLos Angeles County Sheriff’s Deputy Grace Medrano told BuzzFeed News that the bodies of two people were found in Decker Canyon.\\nAuthorities have not yet confirmed if the deaths were fire-related, and are awaiting a coroner’s ruling.\\n“Patience required in this investigation,” tweeted Sheriff Jim McDonnell. “Fire conditions still too dangerous for detectives to approach.”\\n—Brianna Sacks and David Mack\\nThere is no reason for these massive, deadly and costly forest fires in California except that forest management is so poor. Billions of dollars are given each year, with so many lives lost, all because of gross mismanagement of the forests. Remedy now, or no more Fed payments!\\nPresident Trump offered no condolences to those killed in the California wildfires, but did use a tweet on Saturday to cast blame for the blazes on “gross mismanagement of the forests.”\\nTrump said “billions of dollars are given each year,” and threatened “no more Fed payments” if it isn’t improved.\\nThis isn’t the first time Trump has blamed regulations for wildfires in the Democrat-run state.\\nIn August, as fires ravaged California’s north, he lashed out at Gov. Jerry Brown and the state’s water and tree-clearing laws.\\nBut, fire officials hit back, they had plenty of access to water. Critics also accused Trump of being more concerned with clearing public lands for development.\\nRead more from August: Baffled Experts Say Trump Is Completely Clueless On California Fire Policies\\n—Julia Reinstein\\nAn owl sits on the beach in Malibu as the Woolsey Fire approaches.\\nThree major wildfires burning in California have forced hundreds of thousands of people to evacuate, which has also meant an exodus of animals escaping the flames.\\nIn Northern California, the Camp fire had killed at least nine people as of Friday and scorched more than 6,700 structures, making it the most destructive in state history.\\nMeanwhile, less than 24 hours after a mass shooting in Thousand Oaks, more than 200,000 residents in Southern California were ordered to flee their homes as the Woolsey and Hill fires tore though the region.\\nBut mass evacuations meant everything from pet dogs to farm animals and wildlife have also needed to find respite, making for dramatic pictures.\\nRead more: These Haunting Photos Show Animals Fleeing The Massive California Wildfires\\n—Stephanie K. Baer\\nThe Camp fire in Northern California on Friday became the most destructive in state history, with the death toll also climbing to at least nine.\\nThe Butte County Sheriff’s Office announced that it had recovered four more bodies from the fire’s aftermath — one near a vehicle on the road, and the others outside residences.\\nEarlier in the day, five people were found dead inside charred vehicles, apparently overtaken by wind-whipped flames. The Camp fire spread so rapidly that entire towns were forced to evacuate almost simultaneously. On highways, traffic slowed to a crawl, prompting many people to abandon their vehicles.\\nIn addition to taking a toll on human life, the Camp fire has proven to be the most destructive in state history, destroying 6,713 structures across 90,000 acres, according to Cal Fire. As of Friday night, it was just 5% contained, as it continued to rage in gusty winds across dry landscapes, practically razing the town of Paradise.\\nThe Tubbs fire, which tore through Napa and Sonoma counties in 2017, had previously held the No. 1 rank, with 5,636 structures destroyed and 36,807 acres burned.\\nTwo other major wildfires also continued to ravage Southern California, but so far, no deaths have been attributed to the Woolsey or Hill fires as they destroyed one home after another and prompted entire cities, including Malibu, to evacuate.\\n—Blake Montgomery\\nAuthorities say a sixth person has died in the Camp fire in Northern California.\\nButte County Sheriff’s Office spokesperson Megan McMann confirmed the death to the Associated Press Friday, but did not have any details on the circumstances.\\nEarlier, the sheriff’s office said the bodies of at least five people had been found in charred vehicles overtaken by the fire near the town of Paradise.\\nOfficials said the victims could not be immediately identified because of burn injuries.\\n—Stephanie K. Baer\\nPacific Gas & Electric, the largest power company in Northern California, told state regulators Friday that an electrical transmission line experienced an outage just 15 minutes before the deadly Camp fire started on Nov. 8.\\nIn a preliminary report to the California Utilities Commission, PG&E stated that a survey of the power line from the air in the afternoon found damage to a transmission tower along the line.\\nThe Camp fire practically destroyed the town of Paradise and has been blamed for at least five deaths as it continues to rage through thousands of acres of dry vegetation.\\nCal Fire investigators previously found that power lines and related equipment owned by PG&E started 16 fires in October 2017 alone. The company has currently shut off power to tens of thousands of people across California as a precaution and to assist firefighting efforts for the Camp fire, as well as the Woolsey and Hill fires in Southern California, according to its outage map.\\nThe company\\'s regulatory relations department did not immediately respond to a request for comment.\\n—Blake Montgomery\\nThe Woolsey fire more than doubled in size to 35,000 acres by Friday evening, prompting evacuations across Southern California\\'s coast and canyons.\\nWith heavy winds in the forecast for Sunday, firefighters expected the blaze to also grow through the weekend.\\n\"We’re in the seventh year of a drought,\" Ventura County Fire Chief Mark Lorenzen told reporters. \"Our weather conditions, our hill conditions are absolutely ripe for fire.\"\\nOfficials had no immediate estimate of how many homes and structures has been lost so far, but one large house after another could be seen lighting up in flames in aerial news footage throughout the day.\\nGusty winds and low visibility had at times on Friday grounded aircraft dropping water and fire retardant onto flames. Firefighters were also waiting on hundreds of requested vehicles and personnel to assist them, Los Angeles County Fire Chief Daryl Osby said.\\n\"We’re competing with other fires in the state of California,\" he said, adding that more resources would be coming in from out of state.\\nHe urged residents to heed evacuation orders. A few times on Friday, firefighters had come across people staying in threatened homes.\\n\"When you do that, that puts your lives at risks and our firefighters lives at risk,\" Osby said. \"I can only imagine the impact of someone asking you to leave your home, but we’re doing it for your safety.\"\\nAbout 75% of Thousand Oaks\\' population had been told to leave their homes, undoubtedly meaning that some of the evacuees were people affected by Wednesday night\\'s deadly shooting at the Borderline Bar & Grill, Mayor Andy Fox said.\\n\"Some of the folks that were affected by the shooting just a few days ago likely were asked to leave their home on top of that,\" he said.\\nHe asked people to keep victims and their families in their thoughts and prayers. Their loss went beyond that of residents affected by the fire, he added.\\n\"Thankfully, we’ve not lost a single life,\" he said of the wildfire. \"And difficult as it may be, homes can be rebuilt.\"\\n—Claudia Koerner\\nDozens of homes had burned in Malibu by Friday afternoon as firefighters continued to respond to reports of people trapped by the Woolsey fire.\\nHomes in the Kanan-Dume area were destroyed, and Point Dume was also hard hit by the fast-moving blaze. A firefighter told BuzzFeed News it was as bad as the 1993 wildfire that devastated the city, and possibly worse.\\nThe entire city was under evacuation, but emergency calls of residents trapped and unable to flee continued to come in Friday afternoon. Power lines were down, and cars weren’t allowed on roads to make way for emergency vehicles.\\nBut in some neighborhoods, residents couldn’t stay away. They checked on their homes, circumventing road closures on foot or on bicycles.\\n—Brianna Sacks and Claudia Koerner\\nVIDEO: @LACoFireAirOps Firehawk helicopter flying along Pacific Coast Highway in Malibu on the way to protect life and property. This is a historic event. Please follow the direction of local authorities. (Original video, ok to use with credit) @VCFD @LACoFD #WoolseyFire https://t.co/SvZSfipzfk\\n“Oh my God.. embers are going in the car... I can’t hardly breathe...” Coming up on @NBCNightlyNews, video of one family’s terrifying escape from Paradise, California as flames close in. #CampFire #ButteCounty https://t.co/YrIz6ptJ3F\\nVideos posted to social media show the speed and deadly destruction of the Camp fire in Northern California, which officials said overtook at least five people who were trying to flee in their vehicles, killing them.\\nThe wind-whipped fire spread quickly, exploding from 8,000 acres Thursday to 70,000 acres Friday, giving residents of Paradise, California, almost no time to prepare as they evacuated.\\nSome residents and reporters captured video of the apocalyptic scene.\\n#DEVELOPING From a safe distance...just shot this video of a #FireDevil at the #Campfire near #Paradise. #abc7now @LiveDoppler7 https://t.co/jS5WBsvcnV\\nThe fire hit Paradise residents particularly hard. Cal Fire spokesperson Scott McLean said Thursday that the fire “has destroyed the town.”\\nThis dad helped keep his young daughter calm by singing and talking to her as they escaped a raging California wildfire https://t.co/615IfQahmK https://t.co/wogQ6YYBtC\\nParadise residents evacuated so quickly that traffic slowed to a near halt as so many of them took to local highways at once, with gridlock apparently proving to be deadly.\\nThese abandoned and burned out cars shows you what a panic it must have been for residents trying to escape the Camp Fire. Unreal scenes in Paradise, CA, this morning. #CampFire https://t.co/AhBuWzS0Tx\\nMany abandoned their cars as they fled the fire, prompting firefighters to later clear the way with bulldozers. At least five bodies were also discovered in charred vehicles, their identities not immediately discernable due to burn injuries, officials said.\\nThis is Paradise. The town that’s been leveled with a wildfire that has devoured at least 5 lives, 70,000 acres and 2,000 structures in Northern California.\\n\\n#paradise #campfire #northerncalifornia #wildfires #thisishell https://t.co/9Aks5d2G5s\\nVideos also show how Paradise is now a smoking shell of what it was just yesterday morning.\\nThis is Paradise. The town that’s been leveled with a wildfire that has devoured at least 5 lives, 70,000 acres and 2,000 structures in Northern California.\\n\\n#paradise #campfire #northerncalifornia #wildfires #thisishell https://t.co/9Aks5d2G5s\\n—Blake Montgomery\\nThousands of structures have burned because of the Camp, Hill, and Woolsey fires, and the destruction continued Friday.\\nWith ongoing winds and dry weather conditions, the fires were expected to grow. Across the state, hundreds of thousands of people were forced to evacuate.\\nThese photos show the devastation that the wildfires have already caused.\\n—Claudia Koerner\\nKim Kardashian West, Khloé Kardashian, Caitlyn Jenner, Rainn Wilson, Cher, and Alyssa Milano are just some of the celebrities who have been forced to flee their homes as wildfires rage in Southern California.\\nKardashian West thanked firefighters after evacuating her home.\\nShe tweeted Thursday night that she had flown back to California only to have to pack up her home in Calabasas due to the fires. Her sister Khloé also tweeted that the flames had jumped the 101 freeway and she needed to know whether to evacuate.\\nKanye West later posted that his family was safe and thanked everyone for their prayers. However, on Friday TMZ reported that the fire had reached their new home and that it was in “grave danger of being consumed by the flames.”\\nRepresentatives for the Kardashians did not immediately respond to requests for comment.\\nOthers were not so lucky. While Caitlyn Jenner\\'s rep Alan Nierob said his client was \"safe and long since evacuated,\" he could not confirm reports that her home burned down.\\nMilano said on Twitter that she was concerned about the welfare of her home and her animals. She also pleaded for help in saving her five horses.\\nWilson said he evacuated his house and that his dogs and pigs are safe. Cher, meanwhile, said she was worried about her Malibu house, but more importantly that her heart was broken for the people who had lost everything in the fire.\\nDoctor Strange director Scott Derrickson said that while his family was safe, their home had burned down and they lost everything.\\n\"We lost our home, but we are all safe and that’s the important thing. Gonna be offline for awhile,\" he tweeted.\\nABC\\'s famed Bachelor house was also in danger of being destroyed by the wildfire, according to show creator Mike Fleiss. He posted a photo of the flames near the iconic house while praying that it would be saved.\\nRead more: Celebrities Like Kim Kardashian And Jake Paul Are Fleeing The California Wildfires\\n—Claudia Rosenbaum\\nThe entire city of Malibu as well as surrounding areas were evacuated on Friday as the Woolsey fire continued to burn out of control across 14,000 acres.\\nCity officials said they couldn\\'t remember such a widespread evacuation of the coastal community ever happening before. The city is home to about 13,000 people.\\n\"All residents must evacuate immediately,\" an emergency alert read. \"All lanes of [the Pacific Coast Highway] are open for southbound traffic only. PCH closed for northbound traffic completely.\"\\nAnd the fire\\'s spread touched communities across the Ventura County–Los Angeles County border. At least 200,000 people had evacuated because of the fire, Capt. Tony Imbrenda of the LA County Fire Department told BuzzFeed News.\\nSince officials made that estimate Friday morning, the fire and evacuations had expanded substantially, he added.\\n\"I suspect that number has grown substantially,\" he said.\\nTraffic is so backed up here to get out of Malibu that at one point all lanes started going southbound #WoolseyFire\\nThe scope of evacuations put traffic at a standstill on Pacific Coast Highway, the only route to safety for Malibu residents. By the afternoon, the flames had moved into neighborhoods, and multiple homes were burning.\\nMultiple homes are now on fire in Malibu. Per @LACoFDPIO no reports of injuries. PIO says it\\'s a \"dynamic incident\"- meaning things are changing fast, flames are spreading quickly. People need to evacuate if they haven\\'t already. @CBSLA https://t.co/HshLrqSeow\\n—Claudia Koerner\\nThe Woolsey fire has burned a historic Western-style ranch that has been featured in movies and television in the Santa Monica Mountains, park officials said Friday.\\nThe Paramount Ranch, located in the Agoura Hills, has been featured in hundreds of movies and TV shows since the late 1920s, including the 1941 Bob Hope film Caught in the Draft, the 2006 feature The Lake House with Sandra Bullock, and, most recently, the HBO series Westworld.\\nThe National Park Service said on Twitter that officials didn\\'t have any photos or details, but \"it is [their] understanding that the structures have burned.\"\\nWe are sorry to share the news that the #WoolseyFire has burned Western Town at #ParamountRanch in Agoura. We do not have any details or photos, but it is our understanding that the structures have burned. This area is an active part of the incident and we cannot access it. https://t.co/oC4n7KR8ZT\\nLocal photojournalist John Schreiber captured the destruction in a series of photos on Twitter.\\nSad for fans of @WestworldHBO and shows like Dr Quinn Medicine Woman, the Paramount Ranch western town movie set has burned to the ground in the Woolsey Fire @CBSLA #westworld #Woolseyfire https://t.co/DhZWaGbr6g\\nActress Evan Rachel Wood, of Westworld, mourned the loss of the western town where the HBO show was set.\\nThis is eerie. So sad for the history lost. Amazed the church is still standing. #surreal https://t.co/6Xa7cRIWYP\\n—Stephanie K. Baer\\nFlames burn inside a van as the Camp fire tears through Paradise, California.\\nAuthorities say the bodies of at least five people were found in charred vehicles overtaken by the Camp fire near the town of Paradise in Northern California.\\nThe Butte County Sheriff\\'s Office said the victims could not be immediately identified because of burn injuries.\\nAutopsies are scheduled to determine the circumstances of their deaths.\\nThe Butte County Coroner\\'s Office has formed an interagency team to investigate reports of additional fatalities in the area, officials said.\\n—Tasneem Nashrulla\\nThe Camp fire tears through Paradise, California\\nAs three major wildfires raged in California, forcing tens of thousands of residents to flee neighborhoods as homes burned, the state\\'s top emergency services official said Friday that the breadth of destruction was \"unbelievable.\"\\n\"The magnitude of destruction is really unbelievable and heartbreaking,\" Mark Ghilarducci, director of California\\'s Office of Emergency Services.\\nThe destruction continued as the Camp fire raged in Northern California and the Woolsey and Hill fires scorched thousands of acres in Southern California in dry conditions amid gusty winds.\\n\"Weather-wise, we are in a statewide red flag warning,\" Ghilarducci said.\\nThere have been injuries and loss of life, but officials said they have not yet determined to what extent.\\nCalifornia\\'s Governor-elect Gavin Newsom declared a state of emergency in Butte County on Thursday as the 18,000-acre Camp fire destroyed the town of Paradise and forced at least 50,000 people to evacuate.\\nOn Friday, Newsom also declared a state of emergency in the Southern California counties of Ventura and Los Angeles, where the Woolsey and Hill fires have forced around 105,000 people to evacuate.\\nOfficials warned of critical fire conditions and a \"very dangerous weather pattern\" across California through the weekend going into early next week.\\nAt least 75,000 homes in Ventura and Los Angeles counties are under evacuation orders due to the Woolsey fire, which jumped the 101 Freeway on its way toward the Pacific Ocean. It also forced the entire city of Malibu to evacuate early Friday morning.\\nThe Woolsey fire has scorched 8,000 acres, while the Hill fire has burned through 6,100 acres. Both are at 0% containment.\\n—Tasneem Nashrulla\\nHoly shit driving back from Thousand Oaks and #WoolseyFire is erupting and coming down into some neighborhoods here off Kanan https://t.co/lzYJOGMura\\nLess than 24 hours after the mass shooting in Thousand Oaks, residents in Southern California were forced to flee their homes as a raging wildfire — dubbed the Woolsey fire — consumed the area.\\nOn Friday morning, the wind-driven fire forced the entire city of Malibu to evacuate. Around 75,000 homes in Ventura and Los Angeles counties are under mandatory or voluntary evacuation orders, the Los Angeles Times reported.\\nThe fire has scorched at least 8,000 acres and is at 0% containment.\\n—Hazel Shearing and Brianna Sacks\\nThe Camp fire consumes a car dealership in Paradise, California, on Thursday.\\nCalifornia\\'s Governor-elect Gavin Newsom declared a state of emergency Thursday, as the raging fire in Northern California — dubbed the Camp fire — tore through the region.\\nThe fire has destroyed at least 20,000 acres and thousands of homes. Up to 30,000 people have been forced to evacuate due to the blaze.\\n—Blake Montgomery\\nContact BuzzFeed News at bfnews@buzzfeed.com.\\nGot a confidential tip? Submit it here.\\n\\nLooks like your browser doesn\\'t support JavaScript.\\nOur serif font, Pensum, is brought to you by Typemates.'"
      ]
     },
     "execution_count": 37,
     "metadata": {},
     "output_type": "execute_result"
    }
   ],
   "source": [
    "\"\\n\".join(paragraphs)"
   ]
  },
  {
   "cell_type": "code",
   "execution_count": 23,
   "metadata": {},
   "outputs": [
    {
     "data": {
      "text/plain": [
       "'Мать на\\xa0полной ставке с\\xa0мужем на\\xa0полставки Мишель Обама рассказала в\\xa0книге о\\xa0выкидыше, ЭКО, отношениях с\\xa0мужем\\xa0— и\\xa0о\\xa0том, за\\xa0что никогда не\\xa0простит Трампа'"
      ]
     },
     "execution_count": 23,
     "metadata": {},
     "output_type": "execute_result"
    }
   ],
   "source": [
    "bs.findAll(\"h1\", attrs={\"class\": \"RichTitle-root\"})[0].text"
   ]
  },
  {
   "cell_type": "code",
   "execution_count": 20,
   "metadata": {},
   "outputs": [],
   "source": [
    "c = p.text"
   ]
  },
  {
   "cell_type": "code",
   "execution_count": 16,
   "metadata": {},
   "outputs": [
    {
     "data": {
      "text/plain": [
       "'В\\xa0книге Мишель Обама достаточно откровенно рассказывает о\\xa0том, с\\xa0какими проблемами она сталкивалась в\\xa0личной и\\xa0семейной жизни. В\\xa0частности, супруга бывшего президента США призналась, что 20 лет назад у\\xa0нее был выкидыш. В\\xa0эфире передачи «Доброе утро, Америка» на\\xa0телеканале ABC Обама рассказала, что чувствовала себя после этого «потерянной и\\xa0одинокой». «Мне казалось, что это я\\xa0не\\xa0справилась, потому что не\\xa0знала, как часто случаются выкидыши, ведь мы\\xa0не\\xa0говорим о\\xa0них,\\xa0— заявила она. —\\xa0Мы\\xa0сидим, каждый со\\xa0своей болью, и\\xa0считаем, что с\\xa0нами что-то не\\xa0так». Обама подчеркнула, что с\\xa0молодыми матерями важно говорить о\\xa0том, что выкидыши случаются.'"
      ]
     },
     "execution_count": 16,
     "metadata": {},
     "output_type": "execute_result"
    }
   ],
   "source": [
    "c"
   ]
  },
  {
   "cell_type": "code",
   "execution_count": 17,
   "metadata": {},
   "outputs": [
    {
     "data": {
      "text/plain": [
       "'В книге Мишель Обама достаточно откровенно рассказывает о том, с какими проблемами она сталкивалась в личной и семейной жизни. В частности, супруга бывшего президента США призналась, что 20 лет назад у нее был выкидыш. В эфире передачи «Доброе утро, Америка» на телеканале ABC Обама рассказала, что чувствовала себя после этого «потерянной и одинокой». «Мне казалось, что это я не справилась, потому что не знала, как часто случаются выкидыши, ведь мы не говорим о них, — заявила она. — Мы сидим, каждый со своей болью, и считаем, что с нами что-то не так». Обама подчеркнула, что с молодыми матерями важно говорить о том, что выкидыши случаются.'"
      ]
     },
     "execution_count": 17,
     "metadata": {},
     "output_type": "execute_result"
    }
   ],
   "source": [
    "c.replace(\"\\xa0\", \" \")"
   ]
  },
  {
   "cell_type": "code",
   "execution_count": 39,
   "metadata": {},
   "outputs": [],
   "source": [
    "!export GOOGLE_APPLICATION_CREDENTIALS=\"/Users/nikitakrutoy/Downloads/datatopia-filters-e1cac714266d.json\""
   ]
  },
  {
   "cell_type": "code",
   "execution_count": 45,
   "metadata": {},
   "outputs": [],
   "source": [
    "!export GOOGLE_APPLICATION_CREDENTIALS=/Users/nikitakrutoy/Projects/datatopia_filters/translation_key.json"
   ]
  },
  {
   "cell_type": "code",
   "execution_count": 46,
   "metadata": {},
   "outputs": [
    {
     "name": "stdout",
     "output_type": "stream",
     "text": [
      "\r\n"
     ]
    }
   ],
   "source": [
    "!echo $GOOGLE_APPLICATION_CREDENTIALS"
   ]
  },
  {
   "cell_type": "code",
   "execution_count": 47,
   "metadata": {},
   "outputs": [
    {
     "name": "stderr",
     "output_type": "stream",
     "text": [
      "/Users/nikitakrutoy/.pyenv/versions/3.6.6/lib/python3.6/site-packages/google/auth/_default.py:66: UserWarning: Your application has authenticated using end user credentials from Google Cloud SDK. We recommend that most server applications use service accounts instead. If your application continues to use end user credentials from Cloud SDK, you might receive a \"quota exceeded\" or \"API not enabled\" error. For more information about service accounts, see https://cloud.google.com/docs/authentication/\n",
      "  warnings.warn(_CLOUD_SDK_CREDENTIALS_WARNING)\n"
     ]
    },
    {
     "ename": "RefreshError",
     "evalue": "('invalid_grant: Bad Request', '{\\n  \"error\": \"invalid_grant\",\\n  \"error_description\": \"Bad Request\"\\n}')",
     "output_type": "error",
     "traceback": [
      "\u001b[0;31m---------------------------------------------------------------------------\u001b[0m",
      "\u001b[0;31mRefreshError\u001b[0m                              Traceback (most recent call last)",
      "\u001b[0;32m<ipython-input-47-a721e1abc1b1>\u001b[0m in \u001b[0;36m<module>\u001b[0;34m()\u001b[0m\n\u001b[1;32m     13\u001b[0m translation = translate_client.translate(\n\u001b[1;32m     14\u001b[0m     \u001b[0mtext\u001b[0m\u001b[0;34m,\u001b[0m\u001b[0;34m\u001b[0m\u001b[0m\n\u001b[0;32m---> 15\u001b[0;31m     target_language=target)\n\u001b[0m\u001b[1;32m     16\u001b[0m \u001b[0;34m\u001b[0m\u001b[0m\n\u001b[1;32m     17\u001b[0m \u001b[0mprint\u001b[0m\u001b[0;34m(\u001b[0m\u001b[0;34mu'Text: {}'\u001b[0m\u001b[0;34m.\u001b[0m\u001b[0mformat\u001b[0m\u001b[0;34m(\u001b[0m\u001b[0mtext\u001b[0m\u001b[0;34m)\u001b[0m\u001b[0;34m)\u001b[0m\u001b[0;34m\u001b[0m\u001b[0m\n",
      "\u001b[0;32m~/.pyenv/versions/3.6.6/lib/python3.6/site-packages/google/cloud/translate_v2/client.py\u001b[0m in \u001b[0;36mtranslate\u001b[0;34m(self, values, target_language, format_, source_language, customization_ids, model)\u001b[0m\n\u001b[1;32m    231\u001b[0m \u001b[0;34m\u001b[0m\u001b[0m\n\u001b[1;32m    232\u001b[0m         response = self._connection.api_request(\n\u001b[0;32m--> 233\u001b[0;31m             method='POST', path='', data=data)\n\u001b[0m\u001b[1;32m    234\u001b[0m \u001b[0;34m\u001b[0m\u001b[0m\n\u001b[1;32m    235\u001b[0m         \u001b[0mtranslations\u001b[0m \u001b[0;34m=\u001b[0m \u001b[0mresponse\u001b[0m\u001b[0;34m.\u001b[0m\u001b[0mget\u001b[0m\u001b[0;34m(\u001b[0m\u001b[0;34m'data'\u001b[0m\u001b[0;34m,\u001b[0m \u001b[0;34m{\u001b[0m\u001b[0;34m}\u001b[0m\u001b[0;34m)\u001b[0m\u001b[0;34m.\u001b[0m\u001b[0mget\u001b[0m\u001b[0;34m(\u001b[0m\u001b[0;34m'translations'\u001b[0m\u001b[0;34m,\u001b[0m \u001b[0;34m(\u001b[0m\u001b[0;34m)\u001b[0m\u001b[0;34m)\u001b[0m\u001b[0;34m\u001b[0m\u001b[0m\n",
      "\u001b[0;32m~/.pyenv/versions/3.6.6/lib/python3.6/site-packages/google/cloud/_http.py\u001b[0m in \u001b[0;36mapi_request\u001b[0;34m(self, method, path, query_params, data, content_type, headers, api_base_url, api_version, expect_json, _target_object)\u001b[0m\n\u001b[1;32m    288\u001b[0m         response = self._make_request(\n\u001b[1;32m    289\u001b[0m             \u001b[0mmethod\u001b[0m\u001b[0;34m=\u001b[0m\u001b[0mmethod\u001b[0m\u001b[0;34m,\u001b[0m \u001b[0murl\u001b[0m\u001b[0;34m=\u001b[0m\u001b[0murl\u001b[0m\u001b[0;34m,\u001b[0m \u001b[0mdata\u001b[0m\u001b[0;34m=\u001b[0m\u001b[0mdata\u001b[0m\u001b[0;34m,\u001b[0m \u001b[0mcontent_type\u001b[0m\u001b[0;34m=\u001b[0m\u001b[0mcontent_type\u001b[0m\u001b[0;34m,\u001b[0m\u001b[0;34m\u001b[0m\u001b[0m\n\u001b[0;32m--> 290\u001b[0;31m             headers=headers, target_object=_target_object)\n\u001b[0m\u001b[1;32m    291\u001b[0m \u001b[0;34m\u001b[0m\u001b[0m\n\u001b[1;32m    292\u001b[0m         \u001b[0;32mif\u001b[0m \u001b[0;32mnot\u001b[0m \u001b[0;36m200\u001b[0m \u001b[0;34m<=\u001b[0m \u001b[0mresponse\u001b[0m\u001b[0;34m.\u001b[0m\u001b[0mstatus_code\u001b[0m \u001b[0;34m<\u001b[0m \u001b[0;36m300\u001b[0m\u001b[0;34m:\u001b[0m\u001b[0;34m\u001b[0m\u001b[0m\n",
      "\u001b[0;32m~/.pyenv/versions/3.6.6/lib/python3.6/site-packages/google/cloud/_http.py\u001b[0m in \u001b[0;36m_make_request\u001b[0;34m(self, method, url, data, content_type, headers, target_object)\u001b[0m\n\u001b[1;32m    181\u001b[0m         \u001b[0mheaders\u001b[0m\u001b[0;34m[\u001b[0m\u001b[0;34m'User-Agent'\u001b[0m\u001b[0;34m]\u001b[0m \u001b[0;34m=\u001b[0m \u001b[0mself\u001b[0m\u001b[0;34m.\u001b[0m\u001b[0mUSER_AGENT\u001b[0m\u001b[0;34m\u001b[0m\u001b[0m\n\u001b[1;32m    182\u001b[0m \u001b[0;34m\u001b[0m\u001b[0m\n\u001b[0;32m--> 183\u001b[0;31m         \u001b[0;32mreturn\u001b[0m \u001b[0mself\u001b[0m\u001b[0;34m.\u001b[0m\u001b[0m_do_request\u001b[0m\u001b[0;34m(\u001b[0m\u001b[0mmethod\u001b[0m\u001b[0;34m,\u001b[0m \u001b[0murl\u001b[0m\u001b[0;34m,\u001b[0m \u001b[0mheaders\u001b[0m\u001b[0;34m,\u001b[0m \u001b[0mdata\u001b[0m\u001b[0;34m,\u001b[0m \u001b[0mtarget_object\u001b[0m\u001b[0;34m)\u001b[0m\u001b[0;34m\u001b[0m\u001b[0m\n\u001b[0m\u001b[1;32m    184\u001b[0m \u001b[0;34m\u001b[0m\u001b[0m\n\u001b[1;32m    185\u001b[0m     def _do_request(self, method, url, headers, data,\n",
      "\u001b[0;32m~/.pyenv/versions/3.6.6/lib/python3.6/site-packages/google/cloud/_http.py\u001b[0m in \u001b[0;36m_do_request\u001b[0;34m(self, method, url, headers, data, target_object)\u001b[0m\n\u001b[1;32m    210\u001b[0m         \"\"\"\n\u001b[1;32m    211\u001b[0m         return self.http.request(\n\u001b[0;32m--> 212\u001b[0;31m             url=url, method=method, headers=headers, data=data)\n\u001b[0m\u001b[1;32m    213\u001b[0m \u001b[0;34m\u001b[0m\u001b[0m\n\u001b[1;32m    214\u001b[0m     def api_request(self, method, path, query_params=None,\n",
      "\u001b[0;32m~/.pyenv/versions/3.6.6/lib/python3.6/site-packages/google/auth/transport/requests.py\u001b[0m in \u001b[0;36mrequest\u001b[0;34m(self, method, url, data, headers, **kwargs)\u001b[0m\n\u001b[1;32m    196\u001b[0m \u001b[0;34m\u001b[0m\u001b[0m\n\u001b[1;32m    197\u001b[0m         self.credentials.before_request(\n\u001b[0;32m--> 198\u001b[0;31m             self._auth_request, method, url, request_headers)\n\u001b[0m\u001b[1;32m    199\u001b[0m \u001b[0;34m\u001b[0m\u001b[0m\n\u001b[1;32m    200\u001b[0m         response = super(AuthorizedSession, self).request(\n",
      "\u001b[0;32m~/.pyenv/versions/3.6.6/lib/python3.6/site-packages/google/auth/credentials.py\u001b[0m in \u001b[0;36mbefore_request\u001b[0;34m(self, request, method, url, headers)\u001b[0m\n\u001b[1;32m    120\u001b[0m         \u001b[0;31m# the http request.)\u001b[0m\u001b[0;34m\u001b[0m\u001b[0;34m\u001b[0m\u001b[0m\n\u001b[1;32m    121\u001b[0m         \u001b[0;32mif\u001b[0m \u001b[0;32mnot\u001b[0m \u001b[0mself\u001b[0m\u001b[0;34m.\u001b[0m\u001b[0mvalid\u001b[0m\u001b[0;34m:\u001b[0m\u001b[0;34m\u001b[0m\u001b[0m\n\u001b[0;32m--> 122\u001b[0;31m             \u001b[0mself\u001b[0m\u001b[0;34m.\u001b[0m\u001b[0mrefresh\u001b[0m\u001b[0;34m(\u001b[0m\u001b[0mrequest\u001b[0m\u001b[0;34m)\u001b[0m\u001b[0;34m\u001b[0m\u001b[0m\n\u001b[0m\u001b[1;32m    123\u001b[0m         \u001b[0mself\u001b[0m\u001b[0;34m.\u001b[0m\u001b[0mapply\u001b[0m\u001b[0;34m(\u001b[0m\u001b[0mheaders\u001b[0m\u001b[0;34m)\u001b[0m\u001b[0;34m\u001b[0m\u001b[0m\n\u001b[1;32m    124\u001b[0m \u001b[0;34m\u001b[0m\u001b[0m\n",
      "\u001b[0;32m~/.pyenv/versions/3.6.6/lib/python3.6/site-packages/google/oauth2/credentials.py\u001b[0m in \u001b[0;36mrefresh\u001b[0;34m(self, request)\u001b[0m\n\u001b[1;32m    134\u001b[0m             _client.refresh_grant(\n\u001b[1;32m    135\u001b[0m                 \u001b[0mrequest\u001b[0m\u001b[0;34m,\u001b[0m \u001b[0mself\u001b[0m\u001b[0;34m.\u001b[0m\u001b[0m_token_uri\u001b[0m\u001b[0;34m,\u001b[0m \u001b[0mself\u001b[0m\u001b[0;34m.\u001b[0m\u001b[0m_refresh_token\u001b[0m\u001b[0;34m,\u001b[0m \u001b[0mself\u001b[0m\u001b[0;34m.\u001b[0m\u001b[0m_client_id\u001b[0m\u001b[0;34m,\u001b[0m\u001b[0;34m\u001b[0m\u001b[0m\n\u001b[0;32m--> 136\u001b[0;31m                 self._client_secret))\n\u001b[0m\u001b[1;32m    137\u001b[0m \u001b[0;34m\u001b[0m\u001b[0m\n\u001b[1;32m    138\u001b[0m         \u001b[0mself\u001b[0m\u001b[0;34m.\u001b[0m\u001b[0mtoken\u001b[0m \u001b[0;34m=\u001b[0m \u001b[0maccess_token\u001b[0m\u001b[0;34m\u001b[0m\u001b[0m\n",
      "\u001b[0;32m~/.pyenv/versions/3.6.6/lib/python3.6/site-packages/google/oauth2/_client.py\u001b[0m in \u001b[0;36mrefresh_grant\u001b[0;34m(request, token_uri, refresh_token, client_id, client_secret)\u001b[0m\n\u001b[1;32m    235\u001b[0m     }\n\u001b[1;32m    236\u001b[0m \u001b[0;34m\u001b[0m\u001b[0m\n\u001b[0;32m--> 237\u001b[0;31m     \u001b[0mresponse_data\u001b[0m \u001b[0;34m=\u001b[0m \u001b[0m_token_endpoint_request\u001b[0m\u001b[0;34m(\u001b[0m\u001b[0mrequest\u001b[0m\u001b[0;34m,\u001b[0m \u001b[0mtoken_uri\u001b[0m\u001b[0;34m,\u001b[0m \u001b[0mbody\u001b[0m\u001b[0;34m)\u001b[0m\u001b[0;34m\u001b[0m\u001b[0m\n\u001b[0m\u001b[1;32m    238\u001b[0m \u001b[0;34m\u001b[0m\u001b[0m\n\u001b[1;32m    239\u001b[0m     \u001b[0;32mtry\u001b[0m\u001b[0;34m:\u001b[0m\u001b[0;34m\u001b[0m\u001b[0m\n",
      "\u001b[0;32m~/.pyenv/versions/3.6.6/lib/python3.6/site-packages/google/oauth2/_client.py\u001b[0m in \u001b[0;36m_token_endpoint_request\u001b[0;34m(request, token_uri, body)\u001b[0m\n\u001b[1;32m    109\u001b[0m \u001b[0;34m\u001b[0m\u001b[0m\n\u001b[1;32m    110\u001b[0m     \u001b[0;32mif\u001b[0m \u001b[0mresponse\u001b[0m\u001b[0;34m.\u001b[0m\u001b[0mstatus\u001b[0m \u001b[0;34m!=\u001b[0m \u001b[0mhttp_client\u001b[0m\u001b[0;34m.\u001b[0m\u001b[0mOK\u001b[0m\u001b[0;34m:\u001b[0m\u001b[0;34m\u001b[0m\u001b[0m\n\u001b[0;32m--> 111\u001b[0;31m         \u001b[0m_handle_error_response\u001b[0m\u001b[0;34m(\u001b[0m\u001b[0mresponse_body\u001b[0m\u001b[0;34m)\u001b[0m\u001b[0;34m\u001b[0m\u001b[0m\n\u001b[0m\u001b[1;32m    112\u001b[0m \u001b[0;34m\u001b[0m\u001b[0m\n\u001b[1;32m    113\u001b[0m     \u001b[0mresponse_data\u001b[0m \u001b[0;34m=\u001b[0m \u001b[0mjson\u001b[0m\u001b[0;34m.\u001b[0m\u001b[0mloads\u001b[0m\u001b[0;34m(\u001b[0m\u001b[0mresponse_body\u001b[0m\u001b[0;34m)\u001b[0m\u001b[0;34m\u001b[0m\u001b[0m\n",
      "\u001b[0;32m~/.pyenv/versions/3.6.6/lib/python3.6/site-packages/google/oauth2/_client.py\u001b[0m in \u001b[0;36m_handle_error_response\u001b[0;34m(response_body)\u001b[0m\n\u001b[1;32m     59\u001b[0m \u001b[0;34m\u001b[0m\u001b[0m\n\u001b[1;32m     60\u001b[0m     raise exceptions.RefreshError(\n\u001b[0;32m---> 61\u001b[0;31m         error_details, response_body)\n\u001b[0m\u001b[1;32m     62\u001b[0m \u001b[0;34m\u001b[0m\u001b[0m\n\u001b[1;32m     63\u001b[0m \u001b[0;34m\u001b[0m\u001b[0m\n",
      "\u001b[0;31mRefreshError\u001b[0m: ('invalid_grant: Bad Request', '{\\n  \"error\": \"invalid_grant\",\\n  \"error_description\": \"Bad Request\"\\n}')"
     ]
    }
   ],
   "source": [
    "# Imports the Google Cloud client library\n",
    "from google.cloud import translate\n",
    "\n",
    "# Instantiates a client\n",
    "translate_client = translate.Client()\n",
    "\n",
    "# The text to translate\n",
    "text = u'Hello, world!'\n",
    "# The target language\n",
    "target = 'ru'\n",
    "\n",
    "# Translates some text into Russian\n",
    "translation = translate_client.translate(\n",
    "    text,\n",
    "    target_language=target)\n",
    "\n",
    "print(u'Text: {}'.format(text))\n",
    "print(u'Translation: {}'.format(translation['translatedText']))"
   ]
  },
  {
   "cell_type": "code",
   "execution_count": 60,
   "metadata": {},
   "outputs": [],
   "source": [
    "import wikipediaapi\n",
    "from langdetect import detect_langs"
   ]
  },
  {
   "cell_type": "code",
   "execution_count": 66,
   "metadata": {},
   "outputs": [],
   "source": [
    "text = \"Michelangelo Caravaggio, Italian painter, is known for The Calling of Saint Matthew.\""
   ]
  },
  {
   "cell_type": "code",
   "execution_count": 67,
   "metadata": {},
   "outputs": [],
   "source": [
    "wiki_lang = detect_langs(text)[0].lang"
   ]
  },
  {
   "cell_type": "code",
   "execution_count": 68,
   "metadata": {},
   "outputs": [],
   "source": [
    "wiki_wiki = wikipediaapi.Wikipedia(wiki_lang)"
   ]
  },
  {
   "cell_type": "code",
   "execution_count": 69,
   "metadata": {},
   "outputs": [],
   "source": [
    "page_py = wiki_wiki.page('Saint Matthew')"
   ]
  },
  {
   "cell_type": "code",
   "execution_count": 70,
   "metadata": {},
   "outputs": [
    {
     "data": {
      "text/plain": [
       "'Matthew the Apostle (Hebrew: מַתִּתְיָהוּ\\u200e Mattityahu or מתי\\u202c Matt, متى Arabic \"Gift of YHVH\"; Greek: Ματθαῖος; Coptic: ⲙⲁⲧⲑⲉⲟⲥ, Matthaios; also known as Saint Matthew and as Levi) was, according to the Christian Bible, one of the twelve apostles of Jesus and, according to Christian tradition, one of the four Evangelists.'"
      ]
     },
     "execution_count": 70,
     "metadata": {},
     "output_type": "execute_result"
    }
   ],
   "source": [
    "page_py.summary"
   ]
  },
  {
   "cell_type": "code",
   "execution_count": 53,
   "metadata": {},
   "outputs": [],
   "source": []
  },
  {
   "cell_type": "code",
   "execution_count": 58,
   "metadata": {},
   "outputs": [
    {
     "data": {
      "text/plain": [
       "'ru'"
      ]
     },
     "execution_count": 58,
     "metadata": {},
     "output_type": "execute_result"
    }
   ],
   "source": []
  },
  {
   "cell_type": "code",
   "execution_count": 1,
   "metadata": {},
   "outputs": [],
   "source": [
    "import cloudinary\n",
    "import cloudinary.uploader\n",
    "import cloudinary.api"
   ]
  },
  {
   "cell_type": "code",
   "execution_count": 2,
   "metadata": {},
   "outputs": [
    {
     "data": {
      "text/plain": [
       "<cloudinary.Config at 0x1077f83c8>"
      ]
     },
     "execution_count": 2,
     "metadata": {},
     "output_type": "execute_result"
    }
   ],
   "source": [
    "cloudinary.config( \n",
    "  cloud_name = \"dcvwnqk5n\", \n",
    "  api_key = \"774644685974632\", \n",
    "  api_secret = \"yYv28pZ8z8T-OU-oiHW6a8mu_qE\" \n",
    ")"
   ]
  },
  {
   "cell_type": "code",
   "execution_count": 14,
   "metadata": {},
   "outputs": [
    {
     "data": {
      "text/plain": [
       "{'public_id': 'p17kdddhnyr7gz8favlu',\n",
       " 'version': 1543049539,\n",
       " 'signature': 'eb78c357965f2e006866e6b5481513af73aa6e77',\n",
       " 'width': 960,\n",
       " 'height': 720,\n",
       " 'format': 'jpg',\n",
       " 'resource_type': 'image',\n",
       " 'created_at': '2018-11-24T08:52:19Z',\n",
       " 'tags': [],\n",
       " 'bytes': 144393,\n",
       " 'type': 'upload',\n",
       " 'etag': 'f515dce3d8532d307ea35867e45c21fb',\n",
       " 'placeholder': False,\n",
       " 'url': 'http://res.cloudinary.com/dcvwnqk5n/image/upload/v1543049539/p17kdddhnyr7gz8favlu.jpg',\n",
       " 'secure_url': 'https://res.cloudinary.com/dcvwnqk5n/image/upload/v1543049539/p17kdddhnyr7gz8favlu.jpg',\n",
       " 'original_filename': 'k'}"
      ]
     },
     "execution_count": 14,
     "metadata": {},
     "output_type": "execute_result"
    }
   ],
   "source": [
    "cloudinary.uploader.upload(\"pics/k.jpg\")"
   ]
  },
  {
   "cell_type": "code",
   "execution_count": 6,
   "metadata": {},
   "outputs": [],
   "source": [
    "from IPython.core.display import HTML"
   ]
  },
  {
   "cell_type": "code",
   "execution_count": null,
   "metadata": {},
   "outputs": [],
   "source": [
    "HTML(cloudinary.CloudinaryImage(\"p17kdddhnyr7gz8favlu\").image(gravity=\"face\", effect=\"distort:40:25:280:60:260:155:35:165\"))"
   ]
  },
  {
   "cell_type": "code",
   "execution_count": 17,
   "metadata": {},
   "outputs": [],
   "source": [
    "import io\n",
    "import os\n",
    "\n",
    "# Imports the Google Cloud client library\n",
    "from google.cloud import vision\n",
    "# from google.cloud.vision import vision_types"
   ]
  },
  {
   "cell_type": "code",
   "execution_count": 19,
   "metadata": {},
   "outputs": [],
   "source": [
    "def detect_landmarks(path):\n",
    "    \"\"\"Detects landmarks in the file.\"\"\"\n",
    "    client = vision.ImageAnnotatorClient()\n",
    "\n",
    "    with io.open(path, 'rb') as image_file:\n",
    "        content = image_file.read()\n",
    "\n",
    "    image = vision.types.Image(content=content)\n",
    "\n",
    "    response = client.landmark_detection(image=image)\n",
    "    landmarks = response.landmark_annotations\n",
    "    print('Landmarks:')\n",
    "\n",
    "    for landmark in landmarks:\n",
    "        print(landmark.description)\n",
    "        for location in landmark.locations:\n",
    "            lat_lng = location.lat_lng\n",
    "            print('Latitude {}'.format(lat_lng.latitude))\n",
    "            print('Longitude {}'.format(lat_lng.longitude))\n",
    "    return landmarks[0].description"
   ]
  },
  {
   "cell_type": "code",
   "execution_count": 20,
   "metadata": {},
   "outputs": [
    {
     "name": "stdout",
     "output_type": "stream",
     "text": [
      "Landmarks:\n",
      "Helsinki Cathedral\n",
      "Latitude 60.16983399999999\n",
      "Longitude 24.9521\n",
      "Helsinki Cathedral\n",
      "Latitude 60.177243\n",
      "Longitude 24.930725\n"
     ]
    },
    {
     "data": {
      "text/plain": [
       "'Helsinki Cathedral'"
      ]
     },
     "execution_count": 20,
     "metadata": {},
     "output_type": "execute_result"
    }
   ],
   "source": [
    "detect_landmarks(\"pics/iur.jpeg\")"
   ]
  },
  {
   "cell_type": "code",
   "execution_count": 24,
   "metadata": {},
   "outputs": [],
   "source": [
    "from google.cloud import language\n",
    "import wikipediaapi\n",
    "from langdetect import detect_langs\n",
    "from google.cloud.language import types as lang_types\n",
    "from google.cloud.language import enums\n",
    "def nlp(text):\n",
    "    client = language.LanguageServiceClient()\n",
    "#     text = request.json[\"value\"]\n",
    "    # The text to analyze\n",
    "    # text = u'Michelangelo Caravaggio, Italian painter, is known for \"The Calling of Saint Matthew.'\n",
    "    wiki_lang = detect_langs(text)[0].lang\n",
    "    wiki_wiki = wikipediaapi.Wikipedia(wiki_lang)\n",
    "    document = lang_types.Document(\n",
    "        content=text,\n",
    "        type=enums.Document.Type.PLAIN_TEXT)\n",
    "\n",
    "    # Detects the sentiment of the text\n",
    "    response = client.analyze_entities(document=document)\n",
    "\n",
    "    result = []\n",
    "    for entity in response.entities:\n",
    "        result.append(wiki_wiki.page(entity.name).summary)\n",
    "    print(result)"
   ]
  },
  {
   "cell_type": "code",
   "execution_count": 25,
   "metadata": {},
   "outputs": [
    {
     "name": "stdout",
     "output_type": "stream",
     "text": [
      "Landmarks:\n",
      "Helsinki Cathedral\n",
      "Latitude 60.16983399999999\n",
      "Longitude 24.9521\n",
      "Helsinki Cathedral\n",
      "Latitude 60.177243\n",
      "Longitude 24.930725\n",
      "[\"Helsinki Cathedral (Finnish: Helsingin tuomiokirkko, Suurkirkko; Swedish: Helsingfors domkyrka, Storkyrkan) is the Finnish Evangelical Lutheran cathedral of the Diocese of Helsinki, located in the neighborhood of Kruununhaka in the centre of Helsinki, Finland. The church was originally built from 1830-1852 as a tribute to the Grand Duke of Finland, Tsar Nicholas I of Russia. It was also known as St Nicholas' Church until the independence of Finland in 1917. It is a major landmark of the city.\"]\n"
     ]
    }
   ],
   "source": [
    "nlp(detect_landmarks(\"pics/iur.jpeg\"))"
   ]
  },
  {
   "cell_type": "code",
   "execution_count": 30,
   "metadata": {},
   "outputs": [
    {
     "name": "stdout",
     "output_type": "stream",
     "text": [
      "1 2 3\n"
     ]
    }
   ],
   "source": [
    "a = [\"1\", \"2\", \"3\"]\n",
    "print(f'{\" \".join(a)}')"
   ]
  },
  {
   "cell_type": "code",
   "execution_count": 44,
   "metadata": {},
   "outputs": [
    {
     "data": {
      "text/plain": [
       "b'README.md\\ndatatopia-filters-api.paw\\ndatatopia-filters-d18becbfa8f5.json\\nexperiments.ipynb\\nfilters.py\\nmedia\\nnlp.py\\npics\\nreqeurement.txt\\ntranslation.py\\ntranslation_key.json\\n'"
      ]
     },
     "execution_count": 44,
     "metadata": {},
     "output_type": "execute_result"
    }
   ],
   "source": [
    "process = subprocess.Popen(\"ls\", stdout=subprocess.PIPE)\n",
    "output, error = process.communicate()\n",
    "output"
   ]
  },
  {
   "cell_type": "code",
   "execution_count": 20,
   "metadata": {},
   "outputs": [],
   "source": [
    "import subprocess\n",
    "pic_name = \"c\"\n",
    "path = \"./\"\n",
    "path1 = '/Users/nikitakrutoy/Projects/datatopia-filters/pics/'\n",
    "pics = []\n",
    "width = 561\n",
    "height = 561\n",
    "for index, ratio in enumerate(range(95, 0, -5)):\n",
    "    compress_command = f'convert {path}{pic_name}.jpg -liquid-rescale {ratio}%x{ratio}%! {path}{pic_name}_distorted{index}.jpg'\n",
    "    resize_command = f'convert {path}{pic_name}_distorted{index}.jpg -resize {width}x{height} {path}{pic_name}_distorted{index}.jpg'\n",
    "    process = subprocess.Popen(compress_command.split(\" \"), stdout=subprocess.PIPE, cwd=path1)\n",
    "    output, error = process.communicate()\n",
    "    process = subprocess.Popen(resize_command.split(\" \"), stdout=subprocess.PIPE, cwd=path1)\n",
    "    output, error = process.communicate()\n",
    "    pics.append(f'{pic_name}_distorted{index}.jpg')"
   ]
  },
  {
   "cell_type": "code",
   "execution_count": 21,
   "metadata": {},
   "outputs": [],
   "source": [
    "gif_command = f'convert -loop 0 -delay 15 {\" \".join(pics)} result.gif'"
   ]
  },
  {
   "cell_type": "code",
   "execution_count": 22,
   "metadata": {},
   "outputs": [],
   "source": [
    "process = subprocess.Popen(gif_command.split(\" \"), stdout=subprocess.PIPE, cwd=path1)\n",
    "output, error = process.communicate()"
   ]
  },
  {
   "cell_type": "code",
   "execution_count": 1,
   "metadata": {},
   "outputs": [],
   "source": [
    "from pymystem3 import Mystem\n",
    "mystem_analyzer = Mystem()"
   ]
  },
  {
   "cell_type": "code",
   "execution_count": 2,
   "metadata": {},
   "outputs": [],
   "source": [
    "from nltk.tokenize import word_tokenize"
   ]
  },
  {
   "cell_type": "code",
   "execution_count": 4,
   "metadata": {},
   "outputs": [],
   "source": [
    "from censure import Censor"
   ]
  },
  {
   "cell_type": "code",
   "execution_count": 11,
   "metadata": {},
   "outputs": [],
   "source": [
    "del censor"
   ]
  },
  {
   "cell_type": "code",
   "execution_count": 8,
   "metadata": {},
   "outputs": [
    {
     "name": "stdout",
     "output_type": "stream",
     "text": [
      "сука *** *** коза ***** ***\n"
     ]
    }
   ],
   "source": [
    "tokens = word_tokenize(\"\".join(mystem_analyzer.lemmatize(\"сука хуй бля коза ебать хуй\")))\n",
    "for i, token in enumerate(tokens):\n",
    "    if not censor.check_word(token)['is_good']:\n",
    "        tokens[i] = '*' * len(token)\n",
    "print(\" \".join(tokens))\n",
    "    "
   ]
  },
  {
   "cell_type": "code",
   "execution_count": 14,
   "metadata": {},
   "outputs": [],
   "source": [
    "from pymystem3 import Mystem\n",
    "from nltk.tokenize import word_tokenize\n",
    "def censor():\n",
    "    text = \"сука хуй бля коза ебать хуй\"\n",
    "    mystem_analyzer = Mystem()\n",
    "    cnsr = Censor().get(lang=\"ru\")\n",
    "    tokens = word_tokenize(\"\".join(mystem_analyzer.lemmatize(text)))\n",
    "    for i, token in enumerate(tokens):\n",
    "        if not cnsr.check_word(token)['is_good']:\n",
    "            tokens[i] = '*' * len(token)\n",
    "    return \" \".join(tokens)"
   ]
  },
  {
   "cell_type": "code",
   "execution_count": 15,
   "metadata": {},
   "outputs": [
    {
     "data": {
      "text/plain": [
       "'сука *** *** коза ***** ***'"
      ]
     },
     "execution_count": 15,
     "metadata": {},
     "output_type": "execute_result"
    }
   ],
   "source": [
    "censor()"
   ]
  },
  {
   "cell_type": "code",
   "execution_count": 12,
   "metadata": {},
   "outputs": [],
   "source": [
    "from google.cloud import language\n",
    "from google.cloud.language import enums\n",
    "from google.cloud.language import types\n",
    "import six\n",
    "def classify_text(text):\n",
    "    \"\"\"Classifies content categories of the provided text.\"\"\"\n",
    "    client = language.LanguageServiceClient()\n",
    "\n",
    "    if isinstance(text, six.binary_type):\n",
    "        text = text.decode('utf-8')\n",
    "\n",
    "    document = types.Document(\n",
    "        content=text.encode('utf-8'),\n",
    "        type=enums.Document.Type.PLAIN_TEXT)\n",
    "\n",
    "    categories = client.classify_text(document).categories\n",
    "    print(categories)\n",
    "#     for category in categories:\n",
    "#         print(u'=' * 20)\n",
    "#         print(u'{:<16}: {}'.format('name', category.name))\n",
    "#         print(u'{:<16}: {}'.format('confidence', category.confidence))"
   ]
  },
  {
   "cell_type": "code",
   "execution_count": 13,
   "metadata": {},
   "outputs": [],
   "source": [
    "text = '''\n",
    "When it comes to romance, watching a great movie can be the perfect way for couples to pass the time and get a little closer. They're entertaining, easily shared experiences, and they tend to teach us a thing or two about each other's tastes. Not only that, but movies can also be a great excuse to get cozy next to that special someone on the couch or love seat. You can't say the same for reading a magazine, right? No one ever got married after sharing a copy of Newsweek.But some films, while they're great, are movies you should never watch with your partner. Why? Because you'll probably want to avoid arguments, general awkwardness, or even an air of sudden distrust. Nothing makes your sofa go from snuggle-central to the creepy zone quicker than these movies. The films on this list are totally worth your time…as long as you're by yourself.\n",
    "'''"
   ]
  },
  {
   "cell_type": "code",
   "execution_count": 14,
   "metadata": {},
   "outputs": [
    {
     "name": "stdout",
     "output_type": "stream",
     "text": [
      "[name: \"/Arts & Entertainment/Movies\"\n",
      "confidence: 0.8299999833106995\n",
      ", name: \"/People & Society/Family & Relationships\"\n",
      "confidence: 0.5299999713897705\n",
      "]\n"
     ]
    }
   ],
   "source": [
    "classify_text(text)"
   ]
  },
  {
   "cell_type": "code",
   "execution_count": null,
   "metadata": {},
   "outputs": [],
   "source": []
  }
 ],
 "metadata": {
  "kernelspec": {
   "display_name": "Python 3",
   "language": "python",
   "name": "python3"
  },
  "language_info": {
   "codemirror_mode": {
    "name": "ipython",
    "version": 3
   },
   "file_extension": ".py",
   "mimetype": "text/x-python",
   "name": "python",
   "nbconvert_exporter": "python",
   "pygments_lexer": "ipython3",
   "version": "3.6.6"
  }
 },
 "nbformat": 4,
 "nbformat_minor": 2
}
